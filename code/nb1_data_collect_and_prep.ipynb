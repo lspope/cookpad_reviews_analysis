{
 "metadata": {
  "language_info": {
   "codemirror_mode": {
    "name": "ipython",
    "version": 3
   },
   "file_extension": ".py",
   "mimetype": "text/x-python",
   "name": "python",
   "nbconvert_exporter": "python",
   "pygments_lexer": "ipython3",
   "version": "3.6.9-final"
  },
  "orig_nbformat": 2,
  "kernelspec": {
   "name": "flatiron",
   "display_name": "flatiron"
  }
 },
 "nbformat": 4,
 "nbformat_minor": 2,
 "cells": [
  {
   "cell_type": "markdown",
   "metadata": {},
   "source": [
    "# Collect and Prepare Review Data\n",
    "\n",
    "### \n",
    "* Use the google-play-scaper package to get a reasonable sample of reviews of the Cookpad app downloaded from Google Play. \n",
    "* Prepare the collected data for analysis."
   ]
  },
  {
   "cell_type": "code",
   "execution_count": 127,
   "metadata": {},
   "outputs": [],
   "source": [
    "# Import the required libraries\n",
    "import json\n",
    "import pandas as pd\n",
    "\n",
    "from google_play_scraper import Sort, reviews, app"
   ]
  },
  {
   "cell_type": "code",
   "execution_count": 128,
   "metadata": {},
   "outputs": [
    {
     "output_type": "stream",
     "name": "stdout",
     "text": [
      "{'title': 'Cookpad - Create your own Recipes', 'description': 'Looking for recipe inspiration? Look no further. Welcome to Cookpad, the world’s largest community of home cooks where everyday, people just like you share thousands of recipes, ideas and cooking experiences.\\r\\n\\r\\nEach Cookpad recipe has been created, tried and tested by home cooks, for home cooks so whether you love to create, or just want to cook, Cookpad is the place for you.\\r\\n\\r\\n- Browse a diverse collection of recipes, or search by specifics - ingredients, seasonal dishes, holiday favourites and more\\r\\n- Create and share your own recipes and help others to become better cooks\\r\\n- Share photos (or cooksnaps) of the recipes you cook and inspire others to try them too\\r\\n- Connect with other home cooks, ask questions and share ideas\\r\\n- Build a limitless collection of recipes you find, share and cook - it’s your own personal cookbook\\r\\n\\r\\nPlease contact us if you need any further information or help at help@cookpad.com', 'descriptionHTML': 'Looking for recipe inspiration? Look no further. Welcome to Cookpad, the world’s largest community of home cooks where everyday, people just like you share thousands of recipes, ideas and cooking experiences.<br><br>Each Cookpad recipe has been created, tried and tested by home cooks, for home cooks so whether you love to create, or just want to cook, Cookpad is the place for you.<br><br>- Browse a diverse collection of recipes, or search by specifics - ingredients, seasonal dishes, holiday favourites and more<br>- Create and share your own recipes and help others to become better cooks<br>- Share photos (or cooksnaps) of the recipes you cook and inspire others to try them too<br>- Connect with other home cooks, ask questions and share ideas<br>- Build a limitless collection of recipes you find, share and cook - it’s your own personal cookbook<br><br>Please contact us if you need any further information or help at help@cookpad.com', 'summary': 'Find inspiration and share your recipes and love of cooking', 'summaryHTML': 'Find inspiration and share your recipes and love of cooking', 'installs': '10,000,000+', 'minInstalls': 10000000, 'score': 4.666325, 'ratings': 262076, 'reviews': 93445, 'histogram': [9453, 2594, 6719, 28410, 214900], 'price': 0, 'free': True, 'currency': 'USD', 'sale': False, 'saleTime': None, 'originalPrice': None, 'saleText': None, 'offersIAP': True, 'inAppProductPrice': '£1.79 - £16.99 per item', 'size': '13M', 'androidVersion': '5.0', 'androidVersionText': '5.0 and up', 'developer': 'Cookpad Inc (UK)', 'developerId': 'Cookpad+Inc+(UK)', 'developerEmail': 'help@cookpad.com', 'developerWebsite': 'https://cookpad.com/uk', 'developerAddress': '1-3 Broad Plain, Bristol, BS2 0JP', 'privacyPolicy': 'https://cookpad.com/us/privacy', 'developerInternalID': '7834151943014398482', 'genre': 'Food & Drink', 'genreId': 'FOOD_AND_DRINK', 'icon': 'https://play-lh.googleusercontent.com/DVqrFgaJuDA6DxA_HEbG0rBXnLGO_jqEeBGb7EzU4TKtbMiF6HKl1VUkvrDrb1O99-Y', 'headerImage': 'https://play-lh.googleusercontent.com/bMVbGTx_q9zO76v_oNPVACZTUvHPeH4q2-wU0vYuU5Hn8YrcF456ci61eq40whK4W_k', 'screenshots': ['https://play-lh.googleusercontent.com/N2vovK88-AapRwbNqfE5JhcTT6ceYmL5MtO-y_KFjigfF9Gs4PicAdQy1N4Nluks8w', 'https://play-lh.googleusercontent.com/u3mWtxIsOOQn2BZeXl-I_51URgf3Y7efseNvmLLp5X61c-cIcWg6EqkpT6_bNxKwCCU', 'https://play-lh.googleusercontent.com/-Brdi2Yv5Hli64cGbcaoYViXR_OnY16yPE17R4Wh8tXkJXPKsNQIpjdni7R0ZuXcAqk', 'https://play-lh.googleusercontent.com/tRyxlVzClIs3fCmVLfFx6ElJAQ5fgIuygDc0bMOkx-zNPBnYTvK1y58bYut1-NvyWyw', 'https://play-lh.googleusercontent.com/IwvxByPBE-aI_6H1k08Ucvc1O-rZKGoCIVAwPrvwPAvNtQJD5HEu5b6GDWFlOd0dRHY', 'https://play-lh.googleusercontent.com/1ErfMDg1cBy8-ln6bMKWkt_VjmVqEJUTVvb3vuMKLziC7Xj0-ee1mCRJLf1rtKTX5HJW'], 'video': None, 'videoImage': None, 'contentRating': 'Parental guidance', 'contentRatingDescription': 'Parental Guidance Recommended', 'adSupported': None, 'containsAds': False, 'released': 'Sep 4, 2010', 'updated': 1617279822, 'version': '2.194.1.0-android', 'recentChanges': None, 'recentChangesHTML': None, 'comments': ['I have been a Cookpad fan since 2014. So many delicious, simply recipes and so many wonderful, friendly people. You can make culinary friends from around the world!', \"There's an error with the cookmark lately. I can't use the 'searching from the cookmark' feature. It just doesn't work at all. And whenever I scroll down the cookmark, the same 20 recipes keep appearing and I can't look for the old ones. Is this because of the updates? Please kindly fix it. I love this app and I need it so much to the extent like it's an urgent matter for me, because I've been using it everyday for my family. Thank you, Cookpad Team.\", 'I like cookpad and the updated feature about the vegetables of the season. I wish they add planner and a way to calculate the nutritional value of the recipe', 'Time and life saver!! Organize the recipes other people make! Simply perfect', 'this new version is stylish and fast. this is an awesome experience and a work of art from the development team!', \"I used to like this app, but since I updated the newest version, I never be able to search my fave recipes on my bookmark again. I even cannot find it by scrolling it down. Because it keeps repeating only the 10 latest menu I've bookmarked over and over again. Then how do you expect me to subscribe?\", \"I have reinstalled the app to solve my problem, but it doesn't work at all. There is something error with my cookmark. The same recipes are appear as I scroll it. I can't see the old one. Please fix it.\", \"I just got it but so far so good. I've tried one recipe, the Tropical Banana Bread, which was Awesome!!. I'm trying a new recipe for dinner tonight as well. If it turns out good, I will come back and give 4 stars.\", \"Suddenly it cannot be opened. It said no connection mobile or wifi. I tried to reinstall and it still won't open. I love this App because you can search any kind of recipe in here. Please help about this issue.\", \"Great app. The only issue I have is that I can't choose my language that isn't tied to my country. I'd love to be able to see the interface in English while the recipe's will be in the language of the author's choice.\", \"I've updated the app to its newest version, but how could lots of my saved recipes are gone???? And those few recipes left are shown again and again if I scroll down. Please fix the bug asap.\", \"Inspirational. Sometime easy, sometime hard to prepare the ingredients, but there's so many recipe for just 1 food. And i can choose the easiest one. Fun and not too expensive.\", \"Best recipe app I've used. We'll organized and intuitive. I use it for dinner ideas almost every night of the week.\", 'Pop up appears there is no internet connection, even though my internet connection is fine. I tried to uninstall but nothing changes.', 'Easy to use app and great recipes.', 'Great app with easy to follow instructions on most recipes. I would recommend however a calorie counter or nutritional layout for an add-on!', \"Great App and fun. There's so many recipe for just 1 food and i can choose the easiest one. Give me more cooking experience. Thanks cookpad \\U0001f970\\U0001f970\", \"I love this app before the update. Now i can't list which recipe i've tried or not. Thinking of cancelling the subscription.\", 'Just superb app ever. As a cookpad member I m very thankful to cookpad team for such a helpful app for those who have just started cooking.. 😍😍😍\\U0001f970', \"It would be great if I could set multiple countries. I'm Hungarian living in the UK. Obviously I want recipes in English and in Hungarian too\", 'Learning alot of new recipes. Thanks', 'Very helpfull aplication. Recipes so delightful for good experience beginner like me. Thanks cookpad 👍🏻', 'Good, but the app has no menu to stop premium subscription, nor a guidance to stop premium subscription from Play Store.', 'Been a great apps up until i switch my phone to samsung s21u. Cant get inside the apps with all login options (facebook, google, mail). Please fix this.', 'We can share our recipes and can learn new recipes. No doubt getting varieties of dishes that people trying 👏', 'Its fantastic of having this app. We are aable to enjot n learn too many awesome dishes.', 'This app really helps me when i need any recipe when cooking', 'Very helpfull application for searching every cooking recipe.. love this app since 2015.. ♥️♥️', 'This app is very easy for me to use it...i can make alot of food using this app', \"Sounded awesome but can't even login to it so I guess that's a no from me :(\", 'Big security issue, There is no way to change your password in the app.', \"I've updated the app and suddenly my saved recipes are gone????!!!\", 'Very good app.. easy to use and its really helpfull for me 👍👍👍', 'easy recipes and very delicious', \"This app has good foundations but it's missing some features. For example, there is no way to filter recipes based on popularity, likes etc. The app only allows you to see the most recent.\", 'Really helpful for my daily cooking', 'Very helpful cooking app', 'This app is awesome ... been helping me for at least since 2014 when I was a newly wife. I hv shared this app to my beloved friends and hope it will grow up more. Failure in cooking is just normal. And I enjoy trying random recipes from cookpad. If I fail I try another recipe. That easy...', \"This app is very useful. As a man who never touch a pan. And yelling always by mom guy when add salt and sugar, I installed this app since there is no subscribtion. Pretty well grown up UK based app, Good luck guys for the next ten years, dont't throw away submitted recipes, and would you give indicator on recipe which need premium tire? That would be great. Happy never yelling by mom guy from Indonesia\", 'Good app for beginner who wanna start to cooking'], 'editorsChoice': True, 'appId': 'com.mufumbo.android.recipe.search', 'url': 'https://play.google.com/store/apps/details?id=com.mufumbo.android.recipe.search&hl=en&gl=uk'}\n"
     ]
    }
   ],
   "source": [
    "# Scrape the info for the Cookpad app\n",
    "\n",
    "# Confirm we have the right package name for the Cookpad app :)\n",
    "app_info  = app('com.mufumbo.android.recipe.search', lang='en', country='uk')\n",
    "print(app_info)"
   ]
  },
  {
   "cell_type": "code",
   "execution_count": 129,
   "metadata": {},
   "outputs": [],
   "source": [
    "# When doing sentiment analysis on the review text, we'll want to use a balanced sample, roughly the same number of reviews for each score (1-5). For general EDA purposes, let's focus on reviews in the XX timeframe. When we do sentiment/text analysis, we'll pull out a subset of the data in order to create a balanced sample."
   ]
  },
  {
   "cell_type": "code",
   "execution_count": 151,
   "metadata": {},
   "outputs": [],
   "source": [
    "# Get reviews\n",
    "collected_reviews = []\n",
    "\n",
    "review_result, continuation_token = reviews(\n",
    "                                            'com.mufumbo.android.recipe.search',\n",
    "                                            lang='en',\n",
    "                                            country='uk',\n",
    "                                            sort=Sort.NEWEST,\n",
    "                                            count=200)"
   ]
  },
  {
   "cell_type": "code",
   "execution_count": 152,
   "metadata": {
    "tags": []
   },
   "outputs": [
    {
     "output_type": "stream",
     "name": "stdout",
     "text": [
      "200\n"
     ]
    }
   ],
   "source": [
    "print(len(review_result))"
   ]
  },
  {
   "cell_type": "code",
   "execution_count": 153,
   "metadata": {},
   "outputs": [
    {
     "output_type": "execute_result",
     "data": {
      "text/plain": [
       "{'reviewId': 'gp:AOqpTOFyiMt8YqAzHS8aOTZpM7NVvt4SxtA8-fLItgXKBTIGXDdxobDpbsTKDWsEU33vAdi-O6Tuq1i5bkhhRF4',\n",
       " 'userName': 'D Wijaya',\n",
       " 'userImage': 'https://play-lh.googleusercontent.com/a-/AOh14GhX4QjUeLwZ-R4FR0vdXTqD1lXnh-4yH7gtHgrlAw',\n",
       " 'content': 'Bug done ...thx a lot developer',\n",
       " 'score': 5,\n",
       " 'thumbsUpCount': 0,\n",
       " 'reviewCreatedVersion': '2.162.3.0-android',\n",
       " 'at': datetime.datetime(2021, 2, 2, 11, 52, 53),\n",
       " 'replyContent': None,\n",
       " 'repliedAt': None}"
      ]
     },
     "metadata": {},
     "execution_count": 153
    }
   ],
   "source": [
    "review_result[199]"
   ]
  },
  {
   "cell_type": "code",
   "execution_count": 154,
   "metadata": {},
   "outputs": [
    {
     "output_type": "stream",
     "name": "stdout",
     "text": [
      "200\n"
     ]
    }
   ],
   "source": [
    "collected_reviews.extend(review_result)\n",
    "print(len(collected_reviews))"
   ]
  },
  {
   "cell_type": "code",
   "execution_count": 155,
   "metadata": {},
   "outputs": [
    {
     "output_type": "stream",
     "name": "stdout",
     "text": [
      "400\n",
      "{'reviewId': 'gp:AOqpTOF14mbgisKpCVctQ_75X7QDXtK6GBgH4cVhBdSBJf7zI7t5-yhI6DNOplsjFtLPDpWjscv8fneuutNR3rg', 'userName': 'Whb Bsb', 'userImage': 'https://play-lh.googleusercontent.com/a-/AOh14GgcER2WoC9ctgjisBIg7NiIMWoQ8eOo_NO9-O7S', 'content': \"I love this app...it is very easy to use and it's halp me to cook better....good luck and we are waiting apps like this.\", 'score': 5, 'thumbsUpCount': 4, 'reviewCreatedVersion': '2.178.1.0-android', 'at': datetime.datetime(2020, 12, 10, 23, 49, 29), 'replyContent': None, 'repliedAt': None}\n",
      "600\n",
      "{'reviewId': 'gp:AOqpTOF877yxMKCilfnDxKcYcOXRfp4BYB_2jxPV18WgkDAwpH9rSS29zT-pMJpCC3cSFoRviDoLqcXmy3sGRuM', 'userName': 'Winnie kulumba', 'userImage': 'https://play-lh.googleusercontent.com/a-/AOh14GjQ3M3L1C_caH9MSg3QH_ajSPuxxgypM2I5-vxMOA', 'content': 'awesome app, loved the experience', 'score': 5, 'thumbsUpCount': 0, 'reviewCreatedVersion': '2.168.0.0-android', 'at': datetime.datetime(2020, 10, 27, 13, 8, 42), 'replyContent': None, 'repliedAt': None}\n",
      "800\n",
      "{'reviewId': 'gp:AOqpTOG6W6zQRzr5kd3KwfkLSGF65YuhHe0PfbSVKxUUAsVs-RMchm6BQcEUOZNr_9UNeYK2FKG5d0lYEhG-jm0', 'userName': 'Rosma Nyosh', 'userImage': 'https://play-lh.googleusercontent.com/a-/AOh14GjYgy2bqt90VMRkNzZCBvSDGTSXckcsVM8hoQXn', 'content': 'dulu suka lihat resep lewat app nya, sekarang karena ganti hp, jadi tidak bisa log in, daftar pun tidak bisa, lupa password tidak bisa masuk, cookpad kenapa saya tidak bisa log in ataupun sign up?', 'score': 4, 'thumbsUpCount': 0, 'reviewCreatedVersion': '2.166.1.0-android', 'at': datetime.datetime(2020, 8, 31, 19, 54, 50), 'replyContent': None, 'repliedAt': None}\n",
      "1000\n",
      "{'reviewId': 'gp:AOqpTOHV-95lIbymZVw-sp1l0jmPVGCI4seHZ53CiFyma_QOsUXPjO39xKSdNBj66mJOIx7Nf6eWbJEJn20U4xU', 'userName': 'yuliantie eka', 'userImage': 'https://play-lh.googleusercontent.com/a-/AOh14GhMQPoIGTaEiAd83CarMsc3U9gd87o44EG02rrXHg', 'content': 'Terimakasiih', 'score': 5, 'thumbsUpCount': 0, 'reviewCreatedVersion': None, 'at': datetime.datetime(2020, 7, 24, 2, 6, 43), 'replyContent': None, 'repliedAt': None}\n",
      "1200\n",
      "{'reviewId': 'gp:AOqpTOHUPuMhbTw4o4LxB61gTQ1pRN2oLxWJDqSiSXmk9O2jiZGx7GDhzR9DSndo_o1TU29-OTki7x_xjbAycgk', 'userName': 'Ari Kurniawan', 'userImage': 'https://play-lh.googleusercontent.com/a-/AOh14Ghx9F-FyVG8E28cbisVMcrA2qeFdtXrIyQSZuZL', 'content': 'lengkap bin komplit', 'score': 5, 'thumbsUpCount': 0, 'reviewCreatedVersion': '2.127.1.0-android', 'at': datetime.datetime(2020, 6, 13, 22, 11, 42), 'replyContent': None, 'repliedAt': None}\n",
      "1400\n",
      "{'reviewId': 'gp:AOqpTOEJ0jd4GcQgi4Q_YsF-VgbleK98iTHJEaQBCP4q2wEsD1s0wa4blkVKjI5AQTRvB9bOYC4TZ8mHmzlRAsE', 'userName': 'Honey Me', 'userImage': 'https://play-lh.googleusercontent.com/-3-WA0VyIT1Y/AAAAAAAAAAI/AAAAAAAAAAA/AMZuucluE_jjTayoLgbnJvXnESU1vzjORg/photo.jpg', 'content': 'Very bad app. The vast majority recipes are not accurate and not good. FAIL.', 'score': 1, 'thumbsUpCount': 1, 'reviewCreatedVersion': None, 'at': datetime.datetime(2020, 5, 18, 0, 54, 54), 'replyContent': None, 'repliedAt': None}\n",
      "1600\n",
      "{'reviewId': 'gp:AOqpTOEUGxA1t9lkBJViJFH8emlV2hgmmJZO-I6Gtco2EAKWRqx5ROpciITj8KlsI8ol8VkLczqesa4FpOwSimw', 'userName': 'Maizatul Fadzilah', 'userImage': 'https://play-lh.googleusercontent.com/a-/AOh14Gjbi3N878oNGCUbKjSfCp5EprsZvfFaYvg0Jd45', 'content': 'Seronok dapat kongsi2 resepi', 'score': 5, 'thumbsUpCount': 0, 'reviewCreatedVersion': '2.149.1.0-android', 'at': datetime.datetime(2020, 4, 26, 13, 25), 'replyContent': None, 'repliedAt': None}\n",
      "1800\n",
      "{'reviewId': 'gp:AOqpTOGu8Nmgexvz0j4f_5-iHUMXx_Lv_Ff35FeaZmMiCdho4d-vjwTOtjUFY5Vr52vPpTWFMQ-J9FrWbktXbxw', 'userName': 'Iradah Jayanti', 'userImage': 'https://play-lh.googleusercontent.com/-3cddB9VRHZ4/AAAAAAAAAAI/AAAAAAAAAAA/AMZuuclO59j1gnDSIZk1z_Y4tHT_N1Prbg/photo.jpg', 'content': 'Love', 'score': 5, 'thumbsUpCount': 0, 'reviewCreatedVersion': '2.146.0.0-android', 'at': datetime.datetime(2020, 4, 4, 14, 52, 51), 'replyContent': None, 'repliedAt': None}\n",
      "2000\n",
      "{'reviewId': 'gp:AOqpTOFsQgLQ3UWmJtHCeMtKCM3I4eQRQDAzauEgxj4hof9SQMau0N6UN0B_01Yc35aZTTqqUv3RC9lm2oWdPeY', 'userName': 'renda megaverona', 'userImage': 'https://play-lh.googleusercontent.com/a-/AOh14GgOORm5stz1Kn7VG7KjZHvpCONB5tzJGW1iBsJ_', 'content': 'Great apps. Helps me a lot about cooking!', 'score': 5, 'thumbsUpCount': 1, 'reviewCreatedVersion': '2.140.2.0-android', 'at': datetime.datetime(2020, 2, 27, 9, 14, 40), 'replyContent': None, 'repliedAt': None}\n",
      "2200\n",
      "{'reviewId': 'gp:AOqpTOE3NyR8dpMjBlEoGZNb6PUOEeABOBZc2vWFUg7X7xIkBih7mRZeiJ-DQU1C_yRahEwptxN4BhF17ffM7nE', 'userName': 'Arie Danusaputera', 'userImage': 'https://play-lh.googleusercontent.com/a-/AOh14GhqzjvCuFdH3y3u79YlQ546bbAfeFNYTlTXppSgWQ', 'content': 'Sgt senang bs berbagi dan nambah ilmu br dr cookpad', 'score': 5, 'thumbsUpCount': 0, 'reviewCreatedVersion': None, 'at': datetime.datetime(2019, 12, 20, 14, 58, 11), 'replyContent': None, 'repliedAt': None}\n",
      "2400\n",
      "{'reviewId': 'gp:AOqpTOGMxBn4nGvAKaHP7IXadoPz7-0P0bDQCqk2Vb2rjMdSkiBJrd5XnK3S21h6ixhYqU4mFk10fWP35mIlRrU', 'userName': 'Tri Meilinda', 'userImage': 'https://play-lh.googleusercontent.com/a-/AOh14GjuKX8TKlTf8TOJvI5Shr-q9XZTOlnQKWQBiQ27XNU', 'content': 'Good', 'score': 5, 'thumbsUpCount': 0, 'reviewCreatedVersion': '2.117.3.0-android', 'at': datetime.datetime(2019, 11, 2, 8, 43, 56), 'replyContent': None, 'repliedAt': None}\n",
      "2600\n",
      "{'reviewId': 'gp:AOqpTOFx57ULR2OLymcdbOk3LGX-N5hqgpUdaxo_Hf-FOADtsOxlwAZTWsFQjLizVnH0Um6yXepSoFZR5jGPgKw', 'userName': 'ANDI MASTANG', 'userImage': 'https://play-lh.googleusercontent.com/a-/AOh14GgU0JVwnqVxDq3ts7hzdN-nhUs2YtDBWjcWDKB3cA', 'content': 'Good', 'score': 5, 'thumbsUpCount': 0, 'reviewCreatedVersion': '2.113.1.0-android', 'at': datetime.datetime(2019, 9, 30, 2, 13, 17), 'replyContent': None, 'repliedAt': None}\n",
      "2800\n",
      "{'reviewId': 'gp:AOqpTOEohIbeevlsxhx_VDlRlhvmP5sWyrz-67aybwLRtZAp6SRJliZP1JnRZJAdu7fCGid4E8l8B2gQ-0Oa5B8', 'userName': 'Shivam tupe', 'userImage': 'https://play-lh.googleusercontent.com/a-/AOh14Gj70o8kiNC3mcOJ-EQ6uPWuxQBHeissg39WxRzz7Q', 'content': 'fantastic application to gain the food knowledge', 'score': 5, 'thumbsUpCount': 0, 'reviewCreatedVersion': '2.118.2.0-android', 'at': datetime.datetime(2019, 8, 19, 5, 46, 21), 'replyContent': None, 'repliedAt': None}\n",
      "3000\n",
      "{'reviewId': 'gp:AOqpTOHmWRwJclpVmlOnRa1Nt5H4tmbZSTOVmh8y2XlbbIUZlEcYiIP1NzJ0rmZZm22D2ZYy5RnoKV5j3JTUcYo', 'userName': 'Siti Khodijah', 'userImage': 'https://play-lh.googleusercontent.com/-h8Ml1nakkUc/AAAAAAAAAAI/AAAAAAAAAAA/AMZuuclYRwjpkc54iORW58BoMj1KQLtVFg/photo.jpg', 'content': '👍👍👍', 'score': 5, 'thumbsUpCount': 0, 'reviewCreatedVersion': None, 'at': datetime.datetime(2019, 7, 29, 1, 16, 54), 'replyContent': None, 'repliedAt': None}\n",
      "3200\n",
      "{'reviewId': 'gp:AOqpTOHYdRUz2DnfBTBnyz4NMU9DqMY0VXlCoSmVXCpZJl0SLb50U0ZhyqsWuxlGgAocctj4hrO8Nf5CweO6nHs', 'userName': 'trinovi Sukmayanti', 'userImage': 'https://play-lh.googleusercontent.com/a-/AOh14Gi7zGLvStCpB2MhvK_xD0N7wkyBf-uKyx2Su8iPOw', 'content': 'asyik bisa coba banyak reseppp, cuma klo masak aga autis blom.biasa share dan alhamdululah ini masakan c aku blom ke foto sudah kandas..... maklum penduduk cukup padat dan rampus.... cookpad bantu saat buntu dan abis gaya buat masak', 'score': 4, 'thumbsUpCount': 0, 'reviewCreatedVersion': '2.113.1.0-android', 'at': datetime.datetime(2019, 6, 21, 8, 26, 36), 'replyContent': None, 'repliedAt': None}\n",
      "3400\n",
      "{'reviewId': 'gp:AOqpTOHZw6fLHzlJMf2w51Q4pq2lnPCMn3j2VwR6GMwkW_Ms6rKG7Fd6YMUCZtM-im9qvcK5raKLfxr7g8VpNZU', 'userName': 'crystal spence', 'userImage': 'https://play-lh.googleusercontent.com/-vyhgOnKByCs/AAAAAAAAAAI/AAAAAAAAAAA/AMZuucktk0YCx-RbAbJk5CNfPmqbKc_k6A/photo.jpg', 'content': 'I love this app! I can always find just what I need and more!!!', 'score': 5, 'thumbsUpCount': 1, 'reviewCreatedVersion': '2.112.1.0-android', 'at': datetime.datetime(2019, 5, 20, 16, 29, 24), 'replyContent': None, 'repliedAt': None}\n",
      "3600\n",
      "{'reviewId': 'gp:AOqpTOFYUusmGUGT8swIjXzPbCTYraiP0cN_hoeH9-TOAFCcsNy-QT5NhLRwcv1XkR7b9dgSmPRbbIg7bbXpBO8', 'userName': 'Stefanie Gofina', 'userImage': 'https://play-lh.googleusercontent.com/-_OwG71lflfs/AAAAAAAAAAI/AAAAAAAAAAA/AMZuucnAgOEOQ_0YGB6iPy2hnWAuq4u7Og/photo.jpg', 'content': 'Good 👍', 'score': 4, 'thumbsUpCount': 0, 'reviewCreatedVersion': '2.101.1.0-android', 'at': datetime.datetime(2019, 4, 15, 7, 42, 41), 'replyContent': None, 'repliedAt': None}\n",
      "3800\n",
      "{'reviewId': 'gp:AOqpTOEKcGv5xxCwyHeJjQT0iDS5CBt13O7JFslmFy2zfbAIcNnD8y3s8XqRNQ6OlelBi9fhITCIbc3Q5gIasWs', 'userName': 'Erfina Ristiawan', 'userImage': 'https://play-lh.googleusercontent.com/a-/AOh14GgqURbkgopeVdiiX-jF-filyllksFc5oEM8rVP9', 'content': 'very important for me', 'score': 5, 'thumbsUpCount': 1, 'reviewCreatedVersion': '2.104.5.0-android', 'at': datetime.datetime(2019, 3, 19, 1, 23, 38), 'replyContent': None, 'repliedAt': None}\n",
      "4000\n",
      "{'reviewId': 'gp:AOqpTOHzB1RJwYBnjZ_FcMBV5pOpVzBG9K9JgSj2zowcIoKZ8bbLR3nCikh6gMRN9lvCFVoeLSjIU9Q1iy8ZamA', 'userName': 'Katie Davis', 'userImage': 'https://play-lh.googleusercontent.com/a-/AOh14GiheBgWBYnoPOrWkHOQrnGfGDyPfwyVupG3OgaSUA', 'content': 'Layout very well and easy to use', 'score': 4, 'thumbsUpCount': 1, 'reviewCreatedVersion': '2.100.1.0-android', 'at': datetime.datetime(2019, 2, 13, 9, 33, 29), 'replyContent': None, 'repliedAt': None}\n",
      "4200\n",
      "{'reviewId': 'gp:AOqpTOE2bqu4QweKuTJodlfvHzrKU4TJJZ5_EtCdPBInfoczQfLl468OkSo1OWr35Spyw6ssbgMGpOjOn2_8NoY', 'userName': 'Inasti Yulanda', 'userImage': 'https://play-lh.googleusercontent.com/a-/AOh14GjMmzHNCIotInU6jFt5M63d6s2P-2bisdF3NZ7BbQ', 'content': 'cooking web awesome', 'score': 5, 'thumbsUpCount': 2, 'reviewCreatedVersion': '2.96.1.0-android', 'at': datetime.datetime(2019, 1, 15, 7, 14, 59), 'replyContent': None, 'repliedAt': None}\n",
      "4400\n",
      "{'reviewId': 'gp:AOqpTOFKvhw4mLgUd2Aw1jJOr68720vwGgBejxz6Nt6lzlfxqRiCU9wrBCsrWTuEtM-J4Q75OP0nRGkb3H45l2w', 'userName': 'Shanti Shany', 'userImage': 'https://play-lh.googleusercontent.com/a-/AOh14Gjw7M2eRmRrZ4lhOO6-yO7uI9SijDJ0ylD7ykIjnEk', 'content': 'Why I cannot open this app recently.. notification is always the app went wrong please try again', 'score': 4, 'thumbsUpCount': 8, 'reviewCreatedVersion': '2.92.2.0-android', 'at': datetime.datetime(2018, 11, 30, 21, 25, 4), 'replyContent': None, 'repliedAt': None}\n"
     ]
    }
   ],
   "source": [
    "for pagination_count in range(21):\n",
    "    review_result, continuation_token = reviews('com.mufumbo.android.recipe.search',\n",
    "                                                continuation_token=continuation_token)\n",
    "    collected_reviews.extend(review_result)\n",
    "    print(len(collected_reviews))\n",
    "    print(collected_reviews[len(collected_reviews) -1])"
   ]
  },
  {
   "cell_type": "code",
   "execution_count": 186,
   "metadata": {},
   "outputs": [
    {
     "output_type": "execute_result",
     "data": {
      "text/plain": [
       "                                            reviewId            userName  \\\n",
       "0  gp:AOqpTOGBV4KS2fN18xajDXPV38LK3nJ09sBbfcuLClS...           Lori Dumm   \n",
       "1  gp:AOqpTOEAibGyA69S9nq9HcWFihQnZ-yCeUSCYRmMcs2...       Aisha Mahmoud   \n",
       "2  gp:AOqpTOHWPSxiQWVLOWula5YBNht1-bBp4BYa-kx2F1z...             Mia Mae   \n",
       "3  gp:AOqpTOH0ihmhzPKVhqYJPMz0JzFdWC-B6VHVzOMmJMF...             Mnjz Co   \n",
       "4  gp:AOqpTOEaMDo2b7B0taNo0jCO7_X98FvlmrUhYP1Yg-Y...  ปรายงค์ บวรนาถสกุล   \n",
       "\n",
       "                                           userImage  \\\n",
       "0  https://play-lh.googleusercontent.com/-bpz_pGY...   \n",
       "1  https://play-lh.googleusercontent.com/--QqEgPR...   \n",
       "2  https://play-lh.googleusercontent.com/a-/AOh14...   \n",
       "3  https://play-lh.googleusercontent.com/-swHHj9n...   \n",
       "4  https://play-lh.googleusercontent.com/-HHB-1fi...   \n",
       "\n",
       "                                             content  score  thumbsUpCount  \\\n",
       "0                                     All So Awesome      5              0   \n",
       "1                                Really, useful app❤      5              0   \n",
       "2    Bermanfaat sekali untuk yg baru belajar masak👍👍      5              0   \n",
       "3  تطبيق ممتاز و سهل و تلاقي اي طبخة بتدور عليها ...      5              0   \n",
       "4  Loving it. Coolest thing is the search by ingr...      5              0   \n",
       "\n",
       "  reviewCreatedVersion                  at replyContent repliedAt  \n",
       "0    2.194.1.0-android 2021-04-02 09:25:12         None       NaT  \n",
       "1    2.194.1.0-android 2021-04-02 08:06:59         None       NaT  \n",
       "2    2.182.1.0-android 2021-04-02 05:18:30         None       NaT  \n",
       "3                 None 2021-04-02 01:55:42         None       NaT  \n",
       "4    2.194.1.0-android 2021-04-02 01:37:20         None       NaT  "
      ],
      "text/html": "<div>\n<style scoped>\n    .dataframe tbody tr th:only-of-type {\n        vertical-align: middle;\n    }\n\n    .dataframe tbody tr th {\n        vertical-align: top;\n    }\n\n    .dataframe thead th {\n        text-align: right;\n    }\n</style>\n<table border=\"1\" class=\"dataframe\">\n  <thead>\n    <tr style=\"text-align: right;\">\n      <th></th>\n      <th>reviewId</th>\n      <th>userName</th>\n      <th>userImage</th>\n      <th>content</th>\n      <th>score</th>\n      <th>thumbsUpCount</th>\n      <th>reviewCreatedVersion</th>\n      <th>at</th>\n      <th>replyContent</th>\n      <th>repliedAt</th>\n    </tr>\n  </thead>\n  <tbody>\n    <tr>\n      <th>0</th>\n      <td>gp:AOqpTOGBV4KS2fN18xajDXPV38LK3nJ09sBbfcuLClS...</td>\n      <td>Lori Dumm</td>\n      <td>https://play-lh.googleusercontent.com/-bpz_pGY...</td>\n      <td>All So Awesome</td>\n      <td>5</td>\n      <td>0</td>\n      <td>2.194.1.0-android</td>\n      <td>2021-04-02 09:25:12</td>\n      <td>None</td>\n      <td>NaT</td>\n    </tr>\n    <tr>\n      <th>1</th>\n      <td>gp:AOqpTOEAibGyA69S9nq9HcWFihQnZ-yCeUSCYRmMcs2...</td>\n      <td>Aisha Mahmoud</td>\n      <td>https://play-lh.googleusercontent.com/--QqEgPR...</td>\n      <td>Really, useful app❤</td>\n      <td>5</td>\n      <td>0</td>\n      <td>2.194.1.0-android</td>\n      <td>2021-04-02 08:06:59</td>\n      <td>None</td>\n      <td>NaT</td>\n    </tr>\n    <tr>\n      <th>2</th>\n      <td>gp:AOqpTOHWPSxiQWVLOWula5YBNht1-bBp4BYa-kx2F1z...</td>\n      <td>Mia Mae</td>\n      <td>https://play-lh.googleusercontent.com/a-/AOh14...</td>\n      <td>Bermanfaat sekali untuk yg baru belajar masak👍👍</td>\n      <td>5</td>\n      <td>0</td>\n      <td>2.182.1.0-android</td>\n      <td>2021-04-02 05:18:30</td>\n      <td>None</td>\n      <td>NaT</td>\n    </tr>\n    <tr>\n      <th>3</th>\n      <td>gp:AOqpTOH0ihmhzPKVhqYJPMz0JzFdWC-B6VHVzOMmJMF...</td>\n      <td>Mnjz Co</td>\n      <td>https://play-lh.googleusercontent.com/-swHHj9n...</td>\n      <td>تطبيق ممتاز و سهل و تلاقي اي طبخة بتدور عليها ...</td>\n      <td>5</td>\n      <td>0</td>\n      <td>None</td>\n      <td>2021-04-02 01:55:42</td>\n      <td>None</td>\n      <td>NaT</td>\n    </tr>\n    <tr>\n      <th>4</th>\n      <td>gp:AOqpTOEaMDo2b7B0taNo0jCO7_X98FvlmrUhYP1Yg-Y...</td>\n      <td>ปรายงค์ บวรนาถสกุล</td>\n      <td>https://play-lh.googleusercontent.com/-HHB-1fi...</td>\n      <td>Loving it. Coolest thing is the search by ingr...</td>\n      <td>5</td>\n      <td>0</td>\n      <td>2.194.1.0-android</td>\n      <td>2021-04-02 01:37:20</td>\n      <td>None</td>\n      <td>NaT</td>\n    </tr>\n  </tbody>\n</table>\n</div>"
     },
     "metadata": {},
     "execution_count": 186
    }
   ],
   "source": [
    "app_reviews_df = pd.DataFrame(collected_reviews)\n",
    "app_reviews_df.head()"
   ]
  },
  {
   "cell_type": "code",
   "execution_count": 187,
   "metadata": {},
   "outputs": [
    {
     "output_type": "stream",
     "name": "stdout",
     "text": [
      "<class 'pandas.core.frame.DataFrame'>\nRangeIndex: 4400 entries, 0 to 4399\nData columns (total 10 columns):\n #   Column                Non-Null Count  Dtype         \n---  ------                --------------  -----         \n 0   reviewId              4400 non-null   object        \n 1   userName              4400 non-null   object        \n 2   userImage             4400 non-null   object        \n 3   content               4400 non-null   object        \n 4   score                 4400 non-null   int64         \n 5   thumbsUpCount         4400 non-null   int64         \n 6   reviewCreatedVersion  3961 non-null   object        \n 7   at                    4400 non-null   datetime64[ns]\n 8   replyContent          20 non-null     object        \n 9   repliedAt             20 non-null     datetime64[ns]\ndtypes: datetime64[ns](2), int64(2), object(6)\nmemory usage: 343.9+ KB\n"
     ]
    }
   ],
   "source": [
    "app_reviews_df.info()"
   ]
  },
  {
   "cell_type": "code",
   "execution_count": 188,
   "metadata": {},
   "outputs": [
    {
     "output_type": "execute_result",
     "data": {
      "text/plain": [
       "4235"
      ]
     },
     "metadata": {},
     "execution_count": 188
    }
   ],
   "source": [
    "app_reviews_df['userName'].unique().size"
   ]
  },
  {
   "cell_type": "markdown",
   "metadata": {},
   "source": [
    "### Using a subset of the columns/attributes for this analysis as we are interested in review.\n",
    "Keep:\n",
    "* reviewId\n",
    "* userName\n",
    "* content\n",
    "* score\n",
    "* reviewCreatedVersion (there are some nulls here so handle them)\n",
    "* at\n",
    "* replyContent\n",
    "* repliedAt"
   ]
  },
  {
   "cell_type": "code",
   "execution_count": 189,
   "metadata": {},
   "outputs": [
    {
     "output_type": "stream",
     "name": "stdout",
     "text": [
      "<class 'pandas.core.frame.DataFrame'>\nRangeIndex: 4400 entries, 0 to 4399\nData columns (total 8 columns):\n #   Column                Non-Null Count  Dtype         \n---  ------                --------------  -----         \n 0   reviewId              4400 non-null   object        \n 1   userName              4400 non-null   object        \n 2   content               4400 non-null   object        \n 3   score                 4400 non-null   int64         \n 4   reviewCreatedVersion  3961 non-null   object        \n 5   at                    4400 non-null   datetime64[ns]\n 6   replyContent          20 non-null     object        \n 7   repliedAt             20 non-null     datetime64[ns]\ndtypes: datetime64[ns](2), int64(1), object(5)\nmemory usage: 275.1+ KB\n"
     ]
    }
   ],
   "source": [
    "app_reviews_df.drop(['userImage', 'thumbsUpCount'], axis=1, inplace=True)\n",
    "app_reviews_df.info()"
   ]
  },
  {
   "cell_type": "code",
   "execution_count": 190,
   "metadata": {},
   "outputs": [
    {
     "output_type": "stream",
     "name": "stdout",
     "text": [
      "reviewId\n4400\nuserName\n4235\ncontent\n3655\nat\n4400\nreplyContent\n21\nrepliedAt\n21\n"
     ]
    }
   ],
   "source": [
    "# check for duplicates where they might be troublesome or interesting\n",
    "col_names=['reviewId', 'userName', 'content', 'at', 'replyContent', 'repliedAt']\n",
    "\n",
    "for col_name in col_names:\n",
    "    print(col_name)\n",
    "    print(app_reviews_df[col_name].unique().size)"
   ]
  },
  {
   "cell_type": "code",
   "execution_count": 191,
   "metadata": {},
   "outputs": [],
   "source": [
    "# Rename the at column for clarity\n",
    "app_reviews_df.rename(columns={'at':'reviewTimestamp'}, inplace=True)\n",
    "# Set the reviewTimestamp to datetime\n",
    "app_reviews_df['reviewTimestamp'] = pd.to_datetime(app_reviews_df['reviewTimestamp'])\n",
    "\n",
    "# Create new columns - reviewYear as integer and reviewDate as datetime with format YYYY-MM\n",
    "app_reviews_df['reviewYear'] = app_reviews_df.apply(lambda row: row['reviewTimestamp'].year, axis=1)\n",
    "app_reviews_df['reviewMonth'] = app_reviews_df.apply(lambda row: row['reviewTimestamp'].month, axis=1)\n",
    "app_reviews_df['reviewDateString'] = app_reviews_df.apply(lambda row: row['reviewTimestamp'].strftime('%Y-%m'), axis=1)"
   ]
  },
  {
   "cell_type": "code",
   "execution_count": 192,
   "metadata": {},
   "outputs": [
    {
     "output_type": "execute_result",
     "data": {
      "text/plain": [
       "                                            reviewId            userName  \\\n",
       "0  gp:AOqpTOGBV4KS2fN18xajDXPV38LK3nJ09sBbfcuLClS...           Lori Dumm   \n",
       "1  gp:AOqpTOEAibGyA69S9nq9HcWFihQnZ-yCeUSCYRmMcs2...       Aisha Mahmoud   \n",
       "2  gp:AOqpTOHWPSxiQWVLOWula5YBNht1-bBp4BYa-kx2F1z...             Mia Mae   \n",
       "3  gp:AOqpTOH0ihmhzPKVhqYJPMz0JzFdWC-B6VHVzOMmJMF...             Mnjz Co   \n",
       "4  gp:AOqpTOEaMDo2b7B0taNo0jCO7_X98FvlmrUhYP1Yg-Y...  ปรายงค์ บวรนาถสกุล   \n",
       "\n",
       "                                             content  score  \\\n",
       "0                                     All So Awesome      5   \n",
       "1                                Really, useful app❤      5   \n",
       "2    Bermanfaat sekali untuk yg baru belajar masak👍👍      5   \n",
       "3  تطبيق ممتاز و سهل و تلاقي اي طبخة بتدور عليها ...      5   \n",
       "4  Loving it. Coolest thing is the search by ingr...      5   \n",
       "\n",
       "  reviewCreatedVersion     reviewTimestamp replyContent repliedAt  reviewYear  \\\n",
       "0    2.194.1.0-android 2021-04-02 09:25:12         None       NaT        2021   \n",
       "1    2.194.1.0-android 2021-04-02 08:06:59         None       NaT        2021   \n",
       "2    2.182.1.0-android 2021-04-02 05:18:30         None       NaT        2021   \n",
       "3                 None 2021-04-02 01:55:42         None       NaT        2021   \n",
       "4    2.194.1.0-android 2021-04-02 01:37:20         None       NaT        2021   \n",
       "\n",
       "  reviewDateString  \n",
       "0          2021-04  \n",
       "1          2021-04  \n",
       "2          2021-04  \n",
       "3          2021-04  \n",
       "4          2021-04  "
      ],
      "text/html": "<div>\n<style scoped>\n    .dataframe tbody tr th:only-of-type {\n        vertical-align: middle;\n    }\n\n    .dataframe tbody tr th {\n        vertical-align: top;\n    }\n\n    .dataframe thead th {\n        text-align: right;\n    }\n</style>\n<table border=\"1\" class=\"dataframe\">\n  <thead>\n    <tr style=\"text-align: right;\">\n      <th></th>\n      <th>reviewId</th>\n      <th>userName</th>\n      <th>content</th>\n      <th>score</th>\n      <th>reviewCreatedVersion</th>\n      <th>reviewTimestamp</th>\n      <th>replyContent</th>\n      <th>repliedAt</th>\n      <th>reviewYear</th>\n      <th>reviewDateString</th>\n    </tr>\n  </thead>\n  <tbody>\n    <tr>\n      <th>0</th>\n      <td>gp:AOqpTOGBV4KS2fN18xajDXPV38LK3nJ09sBbfcuLClS...</td>\n      <td>Lori Dumm</td>\n      <td>All So Awesome</td>\n      <td>5</td>\n      <td>2.194.1.0-android</td>\n      <td>2021-04-02 09:25:12</td>\n      <td>None</td>\n      <td>NaT</td>\n      <td>2021</td>\n      <td>2021-04</td>\n    </tr>\n    <tr>\n      <th>1</th>\n      <td>gp:AOqpTOEAibGyA69S9nq9HcWFihQnZ-yCeUSCYRmMcs2...</td>\n      <td>Aisha Mahmoud</td>\n      <td>Really, useful app❤</td>\n      <td>5</td>\n      <td>2.194.1.0-android</td>\n      <td>2021-04-02 08:06:59</td>\n      <td>None</td>\n      <td>NaT</td>\n      <td>2021</td>\n      <td>2021-04</td>\n    </tr>\n    <tr>\n      <th>2</th>\n      <td>gp:AOqpTOHWPSxiQWVLOWula5YBNht1-bBp4BYa-kx2F1z...</td>\n      <td>Mia Mae</td>\n      <td>Bermanfaat sekali untuk yg baru belajar masak👍👍</td>\n      <td>5</td>\n      <td>2.182.1.0-android</td>\n      <td>2021-04-02 05:18:30</td>\n      <td>None</td>\n      <td>NaT</td>\n      <td>2021</td>\n      <td>2021-04</td>\n    </tr>\n    <tr>\n      <th>3</th>\n      <td>gp:AOqpTOH0ihmhzPKVhqYJPMz0JzFdWC-B6VHVzOMmJMF...</td>\n      <td>Mnjz Co</td>\n      <td>تطبيق ممتاز و سهل و تلاقي اي طبخة بتدور عليها ...</td>\n      <td>5</td>\n      <td>None</td>\n      <td>2021-04-02 01:55:42</td>\n      <td>None</td>\n      <td>NaT</td>\n      <td>2021</td>\n      <td>2021-04</td>\n    </tr>\n    <tr>\n      <th>4</th>\n      <td>gp:AOqpTOEaMDo2b7B0taNo0jCO7_X98FvlmrUhYP1Yg-Y...</td>\n      <td>ปรายงค์ บวรนาถสกุล</td>\n      <td>Loving it. Coolest thing is the search by ingr...</td>\n      <td>5</td>\n      <td>2.194.1.0-android</td>\n      <td>2021-04-02 01:37:20</td>\n      <td>None</td>\n      <td>NaT</td>\n      <td>2021</td>\n      <td>2021-04</td>\n    </tr>\n  </tbody>\n</table>\n</div>"
     },
     "metadata": {},
     "execution_count": 192
    }
   ],
   "source": [
    "\n",
    "\n",
    "app_reviews_df.head()\n"
   ]
  },
  {
   "cell_type": "code",
   "execution_count": 194,
   "metadata": {},
   "outputs": [
    {
     "output_type": "stream",
     "name": "stdout",
     "text": [
      "reviewCreatedVersion\n226\nscore\n5\nreviewYear\n4\n"
     ]
    }
   ],
   "source": [
    "# check for unique values in the categorical columns\n",
    "col_names=['reviewCreatedVersion', 'score', 'reviewYear']\n",
    "\n",
    "for col_name in col_names:\n",
    "    print(col_name)\n",
    "    print(app_reviews_df[col_name].unique().size)"
   ]
  },
  {
   "cell_type": "code",
   "execution_count": 195,
   "metadata": {},
   "outputs": [
    {
     "output_type": "stream",
     "name": "stdout",
     "text": [
      "<class 'pandas.core.frame.DataFrame'>\nRangeIndex: 4400 entries, 0 to 4399\nData columns (total 10 columns):\n #   Column                Non-Null Count  Dtype         \n---  ------                --------------  -----         \n 0   reviewId              4400 non-null   object        \n 1   userName              4400 non-null   object        \n 2   content               4400 non-null   object        \n 3   score                 4400 non-null   int64         \n 4   reviewCreatedVersion  4400 non-null   object        \n 5   reviewTimestamp       4400 non-null   datetime64[ns]\n 6   replyContent          20 non-null     object        \n 7   repliedAt             20 non-null     datetime64[ns]\n 8   reviewYear            4400 non-null   int64         \n 9   reviewDateString      4400 non-null   object        \ndtypes: datetime64[ns](2), int64(2), object(6)\nmemory usage: 343.9+ KB\n"
     ]
    }
   ],
   "source": [
    "# Set any null reviewCreatedVersion to Unknown\n",
    "app_reviews_df.fillna({'reviewCreatedVersion':'Unknown'}, inplace=True)\n",
    "app_reviews_df.info()"
   ]
  },
  {
   "cell_type": "code",
   "execution_count": 196,
   "metadata": {},
   "outputs": [
    {
     "output_type": "execute_result",
     "data": {
      "text/plain": [
       "array([2021, 2020, 2019, 2018])"
      ]
     },
     "metadata": {},
     "execution_count": 196
    }
   ],
   "source": [
    "app_reviews_df['reviewYear'].unique()"
   ]
  },
  {
   "cell_type": "code",
   "execution_count": 197,
   "metadata": {},
   "outputs": [
    {
     "output_type": "execute_result",
     "data": {
      "text/plain": [
       "Timestamp('2019-01-01 04:27:45')"
      ]
     },
     "metadata": {},
     "execution_count": 197
    }
   ],
   "source": [
    "# Let's drop the reviews from 2018\n",
    "app_reviews_df.drop(app_reviews_df[app_reviews_df['reviewYear'] == 2018].index, inplace=True)\n",
    "app_reviews_df['reviewTimestamp'].min()"
   ]
  },
  {
   "cell_type": "code",
   "execution_count": 198,
   "metadata": {},
   "outputs": [
    {
     "output_type": "execute_result",
     "data": {
      "text/plain": [
       "array([                          'NaT', '2021-01-28T03:20:10.000000000',\n",
       "       '2020-10-30T11:09:42.000000000', '2020-09-17T03:19:41.000000000',\n",
       "       '2020-08-12T05:08:49.000000000', '2018-01-29T02:50:11.000000000',\n",
       "       '2016-08-04T15:38:35.000000000', '2020-06-18T09:17:21.000000000',\n",
       "       '2017-07-03T04:55:21.000000000', '2019-11-14T23:47:54.000000000',\n",
       "       '2017-08-10T04:48:36.000000000', '2016-05-13T11:06:33.000000000',\n",
       "       '2015-12-13T14:41:11.000000000', '2018-09-17T05:05:23.000000000',\n",
       "       '2019-02-28T00:56:45.000000000', '2019-07-01T02:40:11.000000000',\n",
       "       '2019-06-11T04:47:44.000000000', '2019-04-23T08:43:52.000000000',\n",
       "       '2019-03-21T06:23:54.000000000', '2017-02-01T08:18:28.000000000',\n",
       "       '2019-01-21T21:19:38.000000000'], dtype='datetime64[ns]')"
      ]
     },
     "metadata": {},
     "execution_count": 198
    }
   ],
   "source": [
    "app_reviews_df['repliedAt'].unique()  # This looks odd...repliedAt timestamps are set for years before the earliest review date. ?"
   ]
  },
  {
   "cell_type": "code",
   "execution_count": 199,
   "metadata": {},
   "outputs": [],
   "source": [
    "app_reviews_df.to_csv('../data/cookpad_recent_reviews.csv', index=None, header=True)"
   ]
  },
  {
   "cell_type": "code",
   "execution_count": null,
   "metadata": {},
   "outputs": [],
   "source": []
  }
 ]
}