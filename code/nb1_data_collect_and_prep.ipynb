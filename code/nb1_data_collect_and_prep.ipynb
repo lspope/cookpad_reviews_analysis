{
 "metadata": {
  "language_info": {
   "codemirror_mode": {
    "name": "ipython",
    "version": 3
   },
   "file_extension": ".py",
   "mimetype": "text/x-python",
   "name": "python",
   "nbconvert_exporter": "python",
   "pygments_lexer": "ipython3",
   "version": "3.6.9-final"
  },
  "orig_nbformat": 2,
  "kernelspec": {
   "name": "flatiron",
   "display_name": "flatiron"
  }
 },
 "nbformat": 4,
 "nbformat_minor": 2,
 "cells": [
  {
   "cell_type": "markdown",
   "metadata": {},
   "source": [
    "## Prepare Review Data\n",
    "\n",
    "* Used the google-play-scaper package to get recent reviews of the Cookpad app for Google devices. \n",
    "* See get_reviews.py for the code\n",
    "* Now prepare the collected data for analysis."
   ]
  },
  {
   "cell_type": "code",
   "execution_count": 19,
   "metadata": {},
   "outputs": [],
   "source": [
    "# Import the required libraries\n",
    "import pandas as pd"
   ]
  },
  {
   "cell_type": "code",
   "execution_count": 20,
   "metadata": {},
   "outputs": [
    {
     "output_type": "stream",
     "name": "stdout",
     "text": [
      "<class 'pandas.core.frame.DataFrame'>\nRangeIndex: 39820 entries, 0 to 39819\nData columns (total 10 columns):\n #   Column                Non-Null Count  Dtype \n---  ------                --------------  ----- \n 0   reviewId              39820 non-null  object\n 1   userName              39820 non-null  object\n 2   userImage             39820 non-null  object\n 3   content               39632 non-null  object\n 4   score                 39820 non-null  int64 \n 5   thumbsUpCount         39820 non-null  int64 \n 6   reviewCreatedVersion  34777 non-null  object\n 7   at                    39820 non-null  object\n 8   replyContent          1920 non-null   object\n 9   repliedAt             1920 non-null   object\ndtypes: int64(2), object(8)\nmemory usage: 3.0+ MB\n"
     ]
    }
   ],
   "source": [
    "# read in the raw reviews and clean them up for our analysis\n",
    "reviews_df = pd.read_csv('../data/cookpad_reviews_raw.csv')\n",
    "reviews_df.info()"
   ]
  },
  {
   "cell_type": "markdown",
   "metadata": {},
   "source": [
    "## Use a subset of the columns/attributes that were scraped. \n",
    "### Keep:\n",
    "* reviewId\n",
    "* content\n",
    "* score\n",
    "* reviewCreatedVersion (there are some nulls here so handle them)\n",
    "* at"
   ]
  },
  {
   "cell_type": "code",
   "execution_count": 21,
   "metadata": {},
   "outputs": [
    {
     "output_type": "stream",
     "name": "stdout",
     "text": [
      "<class 'pandas.core.frame.DataFrame'>\nRangeIndex: 39820 entries, 0 to 39819\nData columns (total 5 columns):\n #   Column                Non-Null Count  Dtype \n---  ------                --------------  ----- \n 0   reviewId              39820 non-null  object\n 1   content               39632 non-null  object\n 2   score                 39820 non-null  int64 \n 3   reviewCreatedVersion  34777 non-null  object\n 4   at                    39820 non-null  object\ndtypes: int64(1), object(4)\nmemory usage: 1.5+ MB\n"
     ]
    }
   ],
   "source": [
    "reviews_df.drop(['userName', 'replyContent', 'repliedAt', 'userImage', 'thumbsUpCount'], axis=1, inplace=True)\n",
    "reviews_df.info()"
   ]
  },
  {
   "cell_type": "code",
   "execution_count": 22,
   "metadata": {},
   "outputs": [
    {
     "output_type": "execute_result",
     "data": {
      "text/plain": [
       "18210"
      ]
     },
     "metadata": {},
     "execution_count": 22
    }
   ],
   "source": [
    "# check for duplicates \n",
    "reviews_df['reviewId'].unique().size"
   ]
  },
  {
   "cell_type": "code",
   "execution_count": 23,
   "metadata": {},
   "outputs": [
    {
     "output_type": "stream",
     "name": "stdout",
     "text": [
      "<class 'pandas.core.frame.DataFrame'>\nInt64Index: 18210 entries, 0 to 18209\nData columns (total 5 columns):\n #   Column                Non-Null Count  Dtype \n---  ------                --------------  ----- \n 0   reviewId              18210 non-null  object\n 1   content               18116 non-null  object\n 2   score                 18210 non-null  int64 \n 3   reviewCreatedVersion  15874 non-null  object\n 4   at                    18210 non-null  object\ndtypes: int64(1), object(4)\nmemory usage: 853.6+ KB\nNone\n"
     ]
    }
   ],
   "source": [
    "# There were duplicate review ids...drop those duplicate rows\n",
    "reviews_df.drop_duplicates(subset=['reviewId'], inplace=True)\n",
    "print(reviews_df.info())"
   ]
  },
  {
   "cell_type": "code",
   "execution_count": 24,
   "metadata": {},
   "outputs": [],
   "source": [
    "# Rename the at column for clarity \n",
    "reviews_df.rename(columns={'at':'reviewTimestamp'}, inplace=True)\n",
    "# Set the reviewTimestamp to datetime\n",
    "reviews_df['reviewTimestamp'] = pd.to_datetime(reviews_df['reviewTimestamp'])\n",
    "\n",
    "# Create new columns - reviewYear as integer and reviewDate as datetime with format YYYY-MM\n",
    "reviews_df['reviewYear'] = reviews_df.apply(lambda row: row['reviewTimestamp'].year, axis=1)\n",
    "reviews_df['reviewMonth'] = reviews_df.apply(lambda row: row['reviewTimestamp'].month, axis=1)\n",
    "reviews_df['reviewDateString'] = reviews_df.apply(lambda row: row['reviewTimestamp'].strftime('%Y-%m'), axis=1)"
   ]
  },
  {
   "cell_type": "code",
   "execution_count": 25,
   "metadata": {},
   "outputs": [
    {
     "output_type": "execute_result",
     "data": {
      "text/plain": [
       "                                            reviewId  \\\n",
       "0  gp:AOqpTOGCYCaovfg8OvqtDo95GDv3OWH5G3sNZkasoR-...   \n",
       "1  gp:AOqpTOF3lyN0oeSKoZC0LBywwlaDdd0Zvtnjdn1mPaE...   \n",
       "2  gp:AOqpTOGGD3zqw1hNQJLYYc3JGAsbqNGGzPdXCyWXnpr...   \n",
       "\n",
       "                                             content  score  \\\n",
       "0                                      Awesome App .      5   \n",
       "1  I can save my experimental recipe on Cookpad.....      5   \n",
       "2  Superb! I love how it sources recipes from oth...      5   \n",
       "\n",
       "  reviewCreatedVersion     reviewTimestamp  reviewYear  reviewMonth  \\\n",
       "0    2.211.0.0-android 2021-09-08 08:01:48        2021            9   \n",
       "1    2.211.0.0-android 2021-09-07 10:38:00        2021            9   \n",
       "2    2.214.0.0-android 2021-09-07 09:11:37        2021            9   \n",
       "\n",
       "  reviewDateString  \n",
       "0          2021-09  \n",
       "1          2021-09  \n",
       "2          2021-09  "
      ],
      "text/html": "<div>\n<style scoped>\n    .dataframe tbody tr th:only-of-type {\n        vertical-align: middle;\n    }\n\n    .dataframe tbody tr th {\n        vertical-align: top;\n    }\n\n    .dataframe thead th {\n        text-align: right;\n    }\n</style>\n<table border=\"1\" class=\"dataframe\">\n  <thead>\n    <tr style=\"text-align: right;\">\n      <th></th>\n      <th>reviewId</th>\n      <th>content</th>\n      <th>score</th>\n      <th>reviewCreatedVersion</th>\n      <th>reviewTimestamp</th>\n      <th>reviewYear</th>\n      <th>reviewMonth</th>\n      <th>reviewDateString</th>\n    </tr>\n  </thead>\n  <tbody>\n    <tr>\n      <th>0</th>\n      <td>gp:AOqpTOGCYCaovfg8OvqtDo95GDv3OWH5G3sNZkasoR-...</td>\n      <td>Awesome App .</td>\n      <td>5</td>\n      <td>2.211.0.0-android</td>\n      <td>2021-09-08 08:01:48</td>\n      <td>2021</td>\n      <td>9</td>\n      <td>2021-09</td>\n    </tr>\n    <tr>\n      <th>1</th>\n      <td>gp:AOqpTOF3lyN0oeSKoZC0LBywwlaDdd0Zvtnjdn1mPaE...</td>\n      <td>I can save my experimental recipe on Cookpad.....</td>\n      <td>5</td>\n      <td>2.211.0.0-android</td>\n      <td>2021-09-07 10:38:00</td>\n      <td>2021</td>\n      <td>9</td>\n      <td>2021-09</td>\n    </tr>\n    <tr>\n      <th>2</th>\n      <td>gp:AOqpTOGGD3zqw1hNQJLYYc3JGAsbqNGGzPdXCyWXnpr...</td>\n      <td>Superb! I love how it sources recipes from oth...</td>\n      <td>5</td>\n      <td>2.214.0.0-android</td>\n      <td>2021-09-07 09:11:37</td>\n      <td>2021</td>\n      <td>9</td>\n      <td>2021-09</td>\n    </tr>\n  </tbody>\n</table>\n</div>"
     },
     "metadata": {},
     "execution_count": 25
    }
   ],
   "source": [
    "reviews_df.head(3)"
   ]
  },
  {
   "cell_type": "code",
   "execution_count": 26,
   "metadata": {},
   "outputs": [
    {
     "output_type": "stream",
     "name": "stdout",
     "text": [
      "reviewCreatedVersion\n528\nscore\n6\nreviewYear\n12\n"
     ]
    }
   ],
   "source": [
    "# Check for unique values in the categorical columns\n",
    "col_names=['reviewCreatedVersion', 'score', 'reviewYear']\n",
    "\n",
    "for col_name in col_names:\n",
    "    print(col_name)\n",
    "    print(reviews_df[col_name].unique().size)"
   ]
  },
  {
   "cell_type": "code",
   "execution_count": 27,
   "metadata": {},
   "outputs": [
    {
     "output_type": "stream",
     "name": "stdout",
     "text": [
      "<class 'pandas.core.frame.DataFrame'>\nInt64Index: 18210 entries, 0 to 18209\nData columns (total 8 columns):\n #   Column                Non-Null Count  Dtype         \n---  ------                --------------  -----         \n 0   reviewId              18210 non-null  object        \n 1   content               18116 non-null  object        \n 2   score                 18210 non-null  int64         \n 3   reviewCreatedVersion  18210 non-null  object        \n 4   reviewTimestamp       18210 non-null  datetime64[ns]\n 5   reviewYear            18210 non-null  int64         \n 6   reviewMonth           18210 non-null  int64         \n 7   reviewDateString      18210 non-null  object        \ndtypes: datetime64[ns](1), int64(3), object(4)\nmemory usage: 1.3+ MB\n"
     ]
    }
   ],
   "source": [
    "# Set any null reviewCreatedVersion to Unknown\n",
    "reviews_df.fillna({'reviewCreatedVersion':'Unknown'}, inplace=True)\n",
    "reviews_df.info()"
   ]
  },
  {
   "cell_type": "code",
   "execution_count": 28,
   "metadata": {},
   "outputs": [
    {
     "output_type": "execute_result",
     "data": {
      "text/plain": [
       "array([2021, 2020, 2019, 2018, 2017, 2016, 2015, 2014, 2013, 2012, 2011,\n",
       "       2010])"
      ]
     },
     "metadata": {},
     "execution_count": 28
    }
   ],
   "source": [
    "reviews_df['reviewYear'].unique()"
   ]
  },
  {
   "cell_type": "code",
   "execution_count": 30,
   "metadata": {},
   "outputs": [],
   "source": [
    "reviews_df.to_csv('../data/cookpad_prepped_reviews.csv', index=None, header=True)"
   ]
  },
  {
   "cell_type": "code",
   "execution_count": null,
   "metadata": {},
   "outputs": [],
   "source": []
  }
 ]
}