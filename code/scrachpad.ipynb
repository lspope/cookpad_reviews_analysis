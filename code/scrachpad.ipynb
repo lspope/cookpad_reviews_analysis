{
 "metadata": {
  "language_info": {
   "codemirror_mode": {
    "name": "ipython",
    "version": 3
   },
   "file_extension": ".py",
   "mimetype": "text/x-python",
   "name": "python",
   "nbconvert_exporter": "python",
   "pygments_lexer": "ipython3",
   "version": "3.6.9-final"
  },
  "orig_nbformat": 2,
  "kernelspec": {
   "name": "flatiron",
   "display_name": "flatiron"
  }
 },
 "nbformat": 4,
 "nbformat_minor": 2,
 "cells": [
  {
   "cell_type": "code",
   "execution_count": 1,
   "metadata": {},
   "outputs": [],
   "source": [
    "# Import the required libraries\n",
    "import pandas as pd\n",
    "import numpy as np\n",
    "import scipy.stats as scs\n",
    "import matplotlib.pyplot as plt\n",
    "import matplotlib.colors\n",
    "import seaborn as sns\n",
    "\n",
    "%matplotlib inline"
   ]
  },
  {
   "cell_type": "code",
   "execution_count": 2,
   "metadata": {},
   "outputs": [
    {
     "output_type": "stream",
     "name": "stdout",
     "text": [
      "<class 'pandas.core.frame.DataFrame'>\nRangeIndex: 4276 entries, 0 to 4275\nData columns (total 10 columns):\n #   Column                Non-Null Count  Dtype \n---  ------                --------------  ----- \n 0   reviewId              4276 non-null   object\n 1   userName              4276 non-null   object\n 2   content               4276 non-null   object\n 3   score                 4276 non-null   int64 \n 4   reviewCreatedVersion  4276 non-null   object\n 5   reviewTimestamp       4276 non-null   object\n 6   replyContent          20 non-null     object\n 7   repliedAt             20 non-null     object\n 8   reviewYear            4276 non-null   int64 \n 9   reviewDateString      4276 non-null   object\ndtypes: int64(2), object(8)\nmemory usage: 334.2+ KB\n"
     ]
    }
   ],
   "source": [
    "# Read in the collected and prepared data\n",
    "cookpad_reviews_df = pd.read_csv('../data/cookpad_recent_reviews.csv')\n",
    "cookpad_reviews_df.info()"
   ]
  },
  {
   "cell_type": "code",
   "execution_count": 3,
   "metadata": {},
   "outputs": [
    {
     "output_type": "stream",
     "name": "stdout",
     "text": [
      "<class 'pandas.core.frame.DataFrame'>\nInt64Index: 3943 entries, 333 to 4275\nData columns (total 10 columns):\n #   Column                Non-Null Count  Dtype \n---  ------                --------------  ----- \n 0   reviewId              3943 non-null   object\n 1   userName              3943 non-null   object\n 2   content               3943 non-null   object\n 3   score                 3943 non-null   int64 \n 4   reviewCreatedVersion  3943 non-null   object\n 5   reviewTimestamp       3943 non-null   object\n 6   replyContent          19 non-null     object\n 7   repliedAt             19 non-null     object\n 8   reviewYear            3943 non-null   int64 \n 9   reviewDateString      3943 non-null   object\ndtypes: int64(2), object(8)\nmemory usage: 338.9+ KB\n"
     ]
    }
   ],
   "source": [
    "# select the reviews within our desired timeframe 24 month timespan (1 January 2019 - 31 December 2021)\n",
    "reviews_df = cookpad_reviews_df[(cookpad_reviews_df['reviewTimestamp'] >= '2019-01-01') & \n",
    "                                (cookpad_reviews_df['reviewTimestamp'] <=  '2020-12-31')]\n",
    "reviews_df.info()"
   ]
  },
  {
   "cell_type": "code",
   "execution_count": 4,
   "metadata": {},
   "outputs": [
    {
     "output_type": "stream",
     "name": "stdout",
     "text": [
      "min review time\n2019-01-01 04:27:45\nmax review time\n2020-12-30 23:31:13\n"
     ]
    }
   ],
   "source": [
    "print('min review time')\n",
    "print(reviews_df['reviewTimestamp'].min())\n",
    "\n",
    "print('max review time')\n",
    "print(reviews_df['reviewTimestamp'].max())"
   ]
  },
  {
   "cell_type": "code",
   "execution_count": 5,
   "metadata": {},
   "outputs": [],
   "source": [
    "low_ratings_by_version = reviews_df[reviews_df['score'] < 5].groupby(['reviewCreatedVersion'])['reviewId'].count()\n",
    "high_ratings_by_version = reviews_df[reviews_df['score'] == 5 ].groupby(['reviewCreatedVersion'])['reviewId'].count()\n",
    "\n",
    "low_ratings_versions = low_ratings_by_version.index\n",
    "high_ratings_versions = high_ratings_by_version.index\n",
    "\n",
    "low_ratings_nparray = np.array(low_ratings_by_version.index)\n",
    "high_ratings_nparray = np.array(high_ratings_by_version.index)"
   ]
  },
  {
   "cell_type": "code",
   "execution_count": 7,
   "metadata": {},
   "outputs": [
    {
     "output_type": "stream",
     "name": "stdout",
     "text": [
      "Number of Versions in Lower ratings(<5 stars): 128\nNumber of Versions in 5 star ratings: 189\nNumber of Versions found ONLY in Lower ratings (>3 stars): 17\nNumber of Versions found ONLY in 5 star ratings (>3 stars): 78\n"
     ]
    }
   ],
   "source": [
    "print('Number of Versions in Lower ratings(<5 stars): ' + str(len(low_ratings_by_version)))\n",
    "print('Number of Versions in 5 star ratings: ' + str(len(high_ratings_by_version)))\n",
    "\n",
    "only_in_low = np.setdiff1d(low_ratings_nparray, np.array(high_ratings_nparray))\n",
    "print('Number of Versions found ONLY in Lower ratings (>3 stars): ' + str(len(only_in_low)))\n",
    "\n",
    "only_in_high = np.setdiff1d(np.array(high_ratings_nparray), low_ratings_nparray)\n",
    "print('Number of Versions found ONLY in 5 star ratings (>3 stars): ' + str(len(only_in_high)))"
   ]
  },
  {
   "cell_type": "code",
   "execution_count": 8,
   "metadata": {},
   "outputs": [
    {
     "output_type": "stream",
     "name": "stdout",
     "text": [
      "['1.38.1.0-android' '1.43.0.0-android' '1.9.0.1-android'\n '2.109.0.0-android' '2.11' '2.112.0.0-android' '2.12.0.0-android'\n '2.130.0.0-android' '2.132.2.0-android' '2.148.0.0-android'\n '2.167.0.0-android' '2.2.0.0-android' '2.72.0.0-android' '3.25' '4.20'\n '6.47' '7.02']\n"
     ]
    }
   ],
   "source": [
    "print(only_in_low)"
   ]
  },
  {
   "cell_type": "code",
   "execution_count": 9,
   "metadata": {},
   "outputs": [
    {
     "output_type": "stream",
     "name": "stdout",
     "text": [
      "['2.100.0.0-android' '2.104.0.0-android' '2.104.1.0-android'\n '2.104.3.0-android' '2.105.0.0-android' '2.108.0.0-android'\n '2.108.1.0-android' '2.110.0.0-android' '2.111.1.0-android'\n '2.114.0.0-android' '2.116.1.0-android' '2.119.0.0-android'\n '2.122.0.0-android' '2.128.1.0-android' '2.129.0.0-android'\n '2.131.0.0-android' '2.132.1.0-android' '2.134.1.0-android'\n '2.135.1.0-android' '2.135.2.0-android' '2.137.0.0-android'\n '2.138.0.0-android' '2.138.1.0-android' '2.140.0.0-android'\n '2.147.0.0-android' '2.149.0.0-android' '2.151.0.0-android'\n '2.154.0.0-android' '2.155.1.0-android' '2.155.2.0-android'\n '2.156.1.0-android' '2.158.0.0-android' '2.162.2.0-android'\n '2.163.1.0-android' '2.163.2.0-android' '2.164.1.0-android'\n '2.166.0.0-android' '2.169.0.0-android' '2.17.0.0-android'\n '2.174.0.0-android' '2.176.1.0-android' '2.179.0.0-android'\n '2.180.0.0-android' '2.182.0.0-android' '2.22.2.0-android'\n '2.40.1.0-android' '2.42.0.0-android' '2.46.0.0-android'\n '2.48.2.0-android' '2.50.0.0-android' '2.51.1.0-android'\n '2.55.1.0-android' '2.57.0.0-android' '2.66' '2.68.0.0-android'\n '2.69.0.0-android' '2.70.1.0-android' '2.71.1.0-android'\n '2.73.1.0-android' '2.76.2.0-android' '2.77.0.0-android'\n '2.78.0.0-android' '2.79.1.0-android' '2.80.1.0-android'\n '2.81.0.0-android' '2.83.0.0-android' '2.85.0.0-android'\n '2.86.2.0-android' '2.87.1.0-android' '2.90.1.0-android'\n '2.91.3.0-android' '2.93.1.0-android' '2.95.4.0-android'\n '2.96.0.0-android' '2.97.0.0-android' '2.98.0.0-android'\n '2.99.0.0-android' '6.61']\n"
     ]
    }
   ],
   "source": [
    "print(only_in_high)"
   ]
  },
  {
   "cell_type": "code",
   "execution_count": null,
   "metadata": {},
   "outputs": [],
   "source": []
  }
 ]
}